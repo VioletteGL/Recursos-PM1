{
  "nbformat": 4,
  "nbformat_minor": 0,
  "metadata": {
    "colab": {
      "provenance": [],
      "include_colab_link": true
    },
    "kernelspec": {
      "name": "python3",
      "display_name": "Python 3"
    },
    "language_info": {
      "name": "python"
    }
  },
  "cells": [
    {
      "cell_type": "markdown",
      "metadata": {
        "id": "view-in-github",
        "colab_type": "text"
      },
      "source": [
        "<a href=\"https://colab.research.google.com/github/VioletteGL/Recursos-PM1/blob/main/MuestreoDePalabras.ipynb\" target=\"_parent\"><img src=\"https://colab.research.google.com/assets/colab-badge.svg\" alt=\"Open In Colab\"/></a>"
      ]
    },
    {
      "cell_type": "markdown",
      "source": [
        "## Promedio de las longitudes de las palabras de un texto\n",
        "\n",
        "Instrucciones: \n",
        "\n",
        "1. Da clic en el botón ▶ de la pimera línea de código.\n",
        "\n",
        "2. Luego introduce un texto cuando se te pide. Debes dar enter.\n",
        "\n",
        "3. Sigue dando clic en ▶ en todas las líneas de código hasta obtener tus resultados.\n",
        "\n",
        "\n"
      ],
      "metadata": {
        "id": "Fag2rBesv4nq"
      }
    },
    {
      "cell_type": "code",
      "execution_count": null,
      "metadata": {
        "colab": {
          "base_uri": "https://localhost:8080/"
        },
        "id": "Rblc4jinvx6n",
        "outputId": "a59d8f7b-e888-4ca9-dcdf-af5436e6903e"
      },
      "outputs": [
        {
          "name": "stdout",
          "output_type": "stream",
          "text": [
            "Introduce aquí un texto: La idea de la tarea es retomar el problema de Reinforcement Learning en el cual entrenamos a un robot dentro de un almacen para poder ir por la mercancia y regresarla a la zona de embalaje.\n"
          ]
        }
      ],
      "source": [
        "texto= input(f'Introduce aquí un texto: ')"
      ]
    },
    {
      "cell_type": "markdown",
      "source": [
        "Contemos la cantidad de palabras en tu texto."
      ],
      "metadata": {
        "id": "bKtYhPiDzBm-"
      }
    },
    {
      "cell_type": "code",
      "source": [
        "# default separator: space\n",
        "numpal = len(texto.split())\n",
        "\n",
        "print(\"Hay \" + str(numpal) + \" palabras.\")"
      ],
      "metadata": {
        "colab": {
          "base_uri": "https://localhost:8080/"
        },
        "id": "FDu0_ePzwieA",
        "outputId": "8b718853-1d97-42c5-b894-9cb50fc90c2a"
      },
      "execution_count": null,
      "outputs": [
        {
          "output_type": "stream",
          "name": "stdout",
          "text": [
            "Hay 36 palabras.\n"
          ]
        }
      ]
    },
    {
      "cell_type": "markdown",
      "source": [
        "Contemos la cantidad de caracteres en tu texto. Incluyendo los espacios."
      ],
      "metadata": {
        "id": "GZeQoZZiy-27"
      }
    },
    {
      "cell_type": "code",
      "source": [
        "caracteres=[i for i in texto]\n",
        "cuentacarac = len(caracteres)\n",
        "print(\"Hay \" + str(cuentacarac) + \" caracteres, incluyendo espacios.\")"
      ],
      "metadata": {
        "colab": {
          "base_uri": "https://localhost:8080/"
        },
        "id": "stCAK5ENxNtV",
        "outputId": "3d8bacb6-d403-4c69-c55c-9d60b6cf0f51"
      },
      "execution_count": null,
      "outputs": [
        {
          "output_type": "stream",
          "name": "stdout",
          "text": [
            "Hay 189 caracteres, incluyendo espacios.\n"
          ]
        }
      ]
    },
    {
      "cell_type": "markdown",
      "source": [
        "Tenemos una lista con todas las palabras del texto"
      ],
      "metadata": {
        "id": "-pZ5ob3i0aao"
      }
    },
    {
      "cell_type": "code",
      "source": [
        "listaPalabras = texto.split()\n",
        "print(listaPalabras)"
      ],
      "metadata": {
        "colab": {
          "base_uri": "https://localhost:8080/"
        },
        "id": "Wy6zuSHoxUix",
        "outputId": "0c8636b8-c02e-4ad5-b2bc-eb7a0631b8b5"
      },
      "execution_count": null,
      "outputs": [
        {
          "output_type": "stream",
          "name": "stdout",
          "text": [
            "['La', 'idea', 'de', 'la', 'tarea', 'es', 'retomar', 'el', 'problema', 'de', 'Reinforcement', 'Learning', 'en', 'el', 'cual', 'entrenamos', 'a', 'un', 'robot', 'dentro', 'de', 'un', 'almacen', 'para', 'poder', 'ir', 'por', 'la', 'mercancia', 'y', 'regresarla', 'a', 'la', 'zona', 'de', 'embalaje.']\n"
          ]
        }
      ]
    },
    {
      "cell_type": "markdown",
      "source": [
        "Veamos la longitud de las plabras de tu texto"
      ],
      "metadata": {
        "id": "vnqTob4O1Edj"
      }
    },
    {
      "cell_type": "code",
      "source": [
        "import statistics as st\n",
        "\n",
        "longpal=[len(i) for i in listaPalabras]\n",
        "print(f' Ésta es la lista de longitudes de todas las palabras: {longpal} ')"
      ],
      "metadata": {
        "colab": {
          "base_uri": "https://localhost:8080/"
        },
        "id": "1N78VZkT1DcP",
        "outputId": "ff454944-bbda-48a2-de06-954d9b713542"
      },
      "execution_count": null,
      "outputs": [
        {
          "output_type": "stream",
          "name": "stdout",
          "text": [
            " Ésta es la lista de longitudes de todas las palabras: [2, 4, 2, 2, 5, 2, 7, 2, 8, 2, 13, 8, 2, 2, 4, 10, 1, 2, 5, 6, 2, 2, 7, 4, 5, 2, 3, 2, 9, 1, 10, 1, 2, 4, 2, 9] \n"
          ]
        }
      ]
    },
    {
      "cell_type": "markdown",
      "source": [
        "Calculemos el promedio de las longitudes de todas las palabras de tu texto. "
      ],
      "metadata": {
        "id": "OBAFUB6S9uxY"
      }
    },
    {
      "cell_type": "code",
      "source": [
        "print(f'El promedio de la longitud de todas las palabras del texto es:  {st.mean(longpal)} ')"
      ],
      "metadata": {
        "colab": {
          "base_uri": "https://localhost:8080/"
        },
        "id": "BbKH8zxo9iyk",
        "outputId": "a84abcfc-72d6-4c0d-9994-7248370cb084"
      },
      "execution_count": null,
      "outputs": [
        {
          "output_type": "stream",
          "name": "stdout",
          "text": [
            "El promedio de la longitud de todas las palabras del texto es:  8.2 \n"
          ]
        }
      ]
    },
    {
      "cell_type": "markdown",
      "source": [
        "Si deseas reinicar el programa para agregar un nuevo texto, teclea Ctr+M o bien, ve al menú de Entorno de Ejecución y selecciona Reinicar Entorno de Ejecución. Después inica de nuevo dando clic en ▶ desde la pimera línea. "
      ],
      "metadata": {
        "id": "-EvtT0kp-oZJ"
      }
    },
    {
      "cell_type": "markdown",
      "source": [
        "#Muestra aleatoria de palabras\n",
        "\n"
      ],
      "metadata": {
        "id": "gxYsZ4OTFz5V"
      }
    },
    {
      "cell_type": "code",
      "source": [
        "k=int(input(f'  Elige un número entre 1 y {numpal}: ' ))"
      ],
      "metadata": {
        "colab": {
          "base_uri": "https://localhost:8080/"
        },
        "id": "N9Rm0tieFzVW",
        "outputId": "08adab22-4284-45b4-db0c-46cc08bcf014"
      },
      "execution_count": null,
      "outputs": [
        {
          "name": "stdout",
          "output_type": "stream",
          "text": [
            "  Elige un número entre 1 y 36: 5\n"
          ]
        }
      ]
    },
    {
      "cell_type": "code",
      "source": [
        "import numpy\n",
        "def selectRandom(listaPalabras):\n",
        "  return numpy.random.choice(listaPalabras,k,False)\n",
        "\n",
        "print(f' La lista de {k} palabras al azar es: {selectRandom(listaPalabras)}')"
      ],
      "metadata": {
        "colab": {
          "base_uri": "https://localhost:8080/"
        },
        "id": "uyrcFWZQFHiS",
        "outputId": "f78f6e51-d358-42b5-b223-cb37bef685dd"
      },
      "execution_count": null,
      "outputs": [
        {
          "output_type": "stream",
          "name": "stdout",
          "text": [
            " La lista de 5 palabras al azar es: ['de' 'tarea' 'ir' 'problema' 'mercancia']\n"
          ]
        }
      ]
    },
    {
      "cell_type": "code",
      "source": [
        "longAzar=[len(i) for i in selectRandom(listaPalabras)]\n",
        "print(f' Ésta es la lista de longitudes de todas las palabras: {longAzar} ')"
      ],
      "metadata": {
        "colab": {
          "base_uri": "https://localhost:8080/"
        },
        "id": "YG1Dow3QIOZ7",
        "outputId": "8014b40a-46ca-4a33-fa8f-8eea3768584b"
      },
      "execution_count": null,
      "outputs": [
        {
          "output_type": "stream",
          "name": "stdout",
          "text": [
            " Ésta es la lista de longitudes de todas las palabras: [1, 4, 8, 2, 2] \n"
          ]
        }
      ]
    },
    {
      "cell_type": "markdown",
      "source": [
        "El promedio de las longitudes de la lista de palabras al azar es"
      ],
      "metadata": {
        "id": "nlW-PCDpFHBx"
      }
    },
    {
      "cell_type": "code",
      "source": [
        "print(f'El promedio de la longitud de las {k} palabras elegidas al azar es:  {st.mean(longAzar)} ')"
      ],
      "metadata": {
        "colab": {
          "base_uri": "https://localhost:8080/"
        },
        "id": "WTOZn8_9Jp6G",
        "outputId": "cd8b2699-7089-4f65-eec9-920e8402da60"
      },
      "execution_count": null,
      "outputs": [
        {
          "output_type": "stream",
          "name": "stdout",
          "text": [
            "El promedio de la longitud de las 5 palabras elegidas al azar es:  3.4 \n"
          ]
        }
      ]
    }
  ]
}